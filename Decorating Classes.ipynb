{
 "cells": [
  {
   "cell_type": "markdown",
   "metadata": {
    "collapsed": true,
    "pycharm": {
     "name": "#%% md\n"
    }
   },
   "source": [
    "# Decorating Classes\n",
    "\n",
    "Class methods are functions, so we can decorate them just as before, taking care of how we reference class objects.\n",
    "This can be used to monkey patch extra functionality onto existing class methods.\n",
    "\n",
    "For example:"
   ]
  },
  {
   "cell_type": "code",
   "execution_count": 34,
   "outputs": [
    {
     "name": "stdout",
     "output_type": "stream",
     "text": [
      "My numerator is 2\n"
     ]
    }
   ],
   "source": [
    "def class_decorator(cls): # Pass in an entire class to be decorated\n",
    "    #Add functionality with a closure (decorator)\n",
    "    def inner(self): # Define some functionality that the new method will achieve\n",
    "        # Self passes through all the instance attributes\n",
    "        # Do something with the self --\n",
    "        # For example, print something\n",
    "        print(f'My numerator is {self.denominator}')\n",
    "        # Or return some transformation of the self.attributes\n",
    "    cls.added_method = inner # Define the name of the new method\n",
    "    return cls #Return the entire class back out with added functionality\n",
    "\n",
    "Fraction = class_decorator(Fraction)\n",
    "f1 = Fraction(1,2)\n",
    "f1.added_method()"
   ],
   "metadata": {
    "collapsed": false,
    "pycharm": {
     "name": "#%%\n"
    }
   }
  },
  {
   "cell_type": "code",
   "execution_count": 29,
   "outputs": [],
   "source": [
    "from fractions import Fraction\n",
    "\n",
    "def is_integral(cls):\n",
    "    def inner(self):\n",
    "        return self.denominator == 1\n",
    "    cls.int_test = inner\n",
    "    return cls\n",
    "\n",
    "Fraction = is_integral(Fraction)"
   ],
   "metadata": {
    "collapsed": false,
    "pycharm": {
     "name": "#%%\n"
    }
   }
  },
  {
   "cell_type": "code",
   "execution_count": 30,
   "outputs": [],
   "source": [
    "f1 = Fraction(1,2)"
   ],
   "metadata": {
    "collapsed": false,
    "pycharm": {
     "name": "#%%\n"
    }
   }
  },
  {
   "cell_type": "code",
   "execution_count": 31,
   "outputs": [
    {
     "data": {
      "text/plain": "False"
     },
     "execution_count": 31,
     "metadata": {},
     "output_type": "execute_result"
    }
   ],
   "source": [
    "f1.int_test()"
   ],
   "metadata": {
    "collapsed": false,
    "pycharm": {
     "name": "#%%\n"
    }
   }
  },
  {
   "cell_type": "markdown",
   "source": [
    "# Decorating Class Application\n",
    "\n",
    "Decorating classes can be used to prepare\n",
    "1. a reusable introspector for debugging\n",
    "    1. ``datetime.now`` to get time\n",
    "    2. ``self.__class__.__name__`` to get the name\n",
    "    3. ``id(self)`` to get the memory address\n",
    "    4. unpack all variables in the class and readout using<br>``if vars(self)``<br>\n",
    "    ``for k,v in vars(self).items() ...``\n",
    "2. An ordering system for numerical classes\n",
    "    1. Python's inbuilt is <br>\n",
    "    ``from functools import total_ordering``\n",
    "\n"
   ],
   "metadata": {
    "collapsed": false,
    "pycharm": {
     "name": "#%% md\n"
    }
   }
  }
 ],
 "metadata": {
  "kernelspec": {
   "display_name": "Python 3",
   "language": "python",
   "name": "python3"
  },
  "language_info": {
   "codemirror_mode": {
    "name": "ipython",
    "version": 2
   },
   "file_extension": ".py",
   "mimetype": "text/x-python",
   "name": "python",
   "nbconvert_exporter": "python",
   "pygments_lexer": "ipython2",
   "version": "2.7.6"
  }
 },
 "nbformat": 4,
 "nbformat_minor": 0
}