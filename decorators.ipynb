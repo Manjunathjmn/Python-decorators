{
 "cells": [
  {
   "cell_type": "markdown",
   "source": [
    "# Decorators"
   ],
   "metadata": {
    "collapsed": false,
    "pycharm": {
     "name": "#%% md\n"
    }
   }
  },
  {
   "cell_type": "markdown",
   "source": [
    " Decorators wrap around other functions, adding some extra functionality without\n",
    " changing the core behaviour.\n",
    "\n",
    " Decorators:\n",
    "   1. Takes a function as an argument\n",
    "   2. Returns a closure\n",
    "   3. Closure typically accepts any combination of parameters (***args**, ****kwargs**)\n",
    "       1. Closure runs some code in the inner function\n",
    "       2. Closure calls the original function using the arguments passed\n",
    "   4. Returns whatever is returned by that function call"
   ],
   "metadata": {
    "collapsed": false,
    "pycharm": {
     "name": "#%% md\n"
    }
   }
  },
  {
   "cell_type": "markdown",
   "source": [
    "## Python decoration syntax\n",
    "\n",
    "``@decorator`` <br>\n",
    "``def my_func():``\n",
    "\n",
    "is equivalent to\n",
    "\n",
    "``my_func = decorator(my_func)``\n",
    "\n"
   ],
   "metadata": {
    "collapsed": false
   }
  },
  {
   "cell_type": "markdown",
   "source": [
    "## Introspecting Decorated functions\n",
    "``@wraps`` from the functools module can be used to preserve the metadata of the decorated functions.\n",
    "Used in the decorator, just before the inner function.\n",
    "\n",
    "``my_func.__name__`` can be then used to get the name of the function <br>\n",
    "``help(my_func)`` can be used as before, pulling docstrings and annotations"
   ],
   "metadata": {
    "collapsed": false
   }
  },
  {
   "cell_type": "markdown",
   "source": [
    "# Decorator"
   ],
   "metadata": {
    "collapsed": false
   }
  },
  {
   "cell_type": "code",
   "execution_count": 67,
   "outputs": [],
   "source": [
    "def decorator_mwe(fn): # Decorators take in the function\n",
    "    # A free variable can be defined here for storage and use.\n",
    "    def inner(*args,**kwargs):\n",
    "        # Typically something is done here - e.g. timing, memoization etc.\n",
    "        func_result = fn(*args,**kwargs)\n",
    "        return func_result # Closure returns the function result\n",
    "    return inner # Decorators return the function result, with some additional functionality"
   ],
   "metadata": {
    "collapsed": false,
    "pycharm": {
     "name": "#%%\n"
    }
   }
  },
  {
   "cell_type": "code",
   "execution_count": 19,
   "outputs": [],
   "source": [
    "def timed(fn): # function to be decorated is passed in\n",
    "    from time import perf_counter # returns current time\n",
    "    from functools import wraps # preserves metadata\n",
    "\n",
    "    @wraps(fn) # parameterized decorator takes in function whose metadata is to be preserved\n",
    "    def inner(*args,**kwargs): # take in any arguments\n",
    "        start = perf_counter() # start timer\n",
    "        function = fn(*args,*kwargs) # feed through and unwrap arguments\n",
    "        end = perf_counter() # end timer\n",
    "        time_elapsed = end-start #get time elapsed\n",
    "\n",
    "        args_list = [str(a) for a in args]\n",
    "        kwargs_list = [f'{k}:{v}' for k,v in kwargs.items()] #extract key value from dict using tuple unpack and list comp.\n",
    "        print(f'Function took {time_elapsed} seconds to run.\\n'\n",
    "              f'for args: {args_list} and kwargs: {kwargs_list}') # Print out how long it took\n",
    "        return function\n",
    "    return inner"
   ],
   "metadata": {
    "collapsed": false,
    "pycharm": {
     "name": "#%%\n"
    }
   }
  },
  {
   "cell_type": "code",
   "execution_count": 20,
   "outputs": [
    {
     "name": "stdout",
     "output_type": "stream",
     "text": [
      "Function took 2.0000006770715117e-06 seconds to run.\n",
      "for args: ['100', '1234'] and kwargs: []\n"
     ]
    },
    {
     "data": {
      "text/plain": "1334"
     },
     "execution_count": 20,
     "metadata": {},
     "output_type": "execute_result"
    }
   ],
   "source": [
    "@timed\n",
    "def addsimple(a,b):\n",
    "    return a+b\n",
    "\n",
    "addsimple(100,1234)\n"
   ],
   "metadata": {
    "collapsed": false,
    "pycharm": {
     "name": "#%%\n"
    }
   }
  },
  {
   "cell_type": "markdown",
   "source": [
    "# Parameterized Decorators\n",
    "These are achieved by nesting.\n",
    "The outer decorator is a decorator factory that generates a decorator, passing through a parameter used during decoration."
   ],
   "metadata": {
    "collapsed": false,
    "pycharm": {
     "name": "#%% md\n"
    }
   }
  },
  {
   "cell_type": "code",
   "execution_count": 49,
   "outputs": [],
   "source": [
    "def paramdec_mwe(a,b): # A decorator factory\n",
    "    '''\n",
    "    A minimum working example for a parameterized decorator.\n",
    "    '''\n",
    "    from functools import wraps\n",
    "    def internal_decorator(fn): # Start of the internal decorator\n",
    "        @wraps(fn)\n",
    "        def inner(*args,**kwargs):\n",
    "            print(f'The parameters for the decorator were {a} and {b}.')\n",
    "            # The parameters a and b are passed down through all the levels as a free variable.\n",
    "            function_result = fn(*args,**kwargs)\n",
    "            return function_result\n",
    "        return inner # End of the internal decorator.\n",
    "    return internal_decorator # The decorator factory returns a decorator.\n"
   ],
   "metadata": {
    "collapsed": false,
    "pycharm": {
     "name": "#%%\n"
    }
   }
  },
  {
   "cell_type": "code",
   "execution_count": 60,
   "outputs": [],
   "source": [
    "def time_it(cycles=100): # This is a decorator factory\n",
    "    '''\n",
    "    A simple parameterized decorator - timing over a number of cycles.\n",
    "    Default is 100, can set as many as you want.\n",
    "    '''\n",
    "    # Takes in a parameter to pass through to the decorator being\n",
    "    # In this case, it's the number of cycles to run the function to be timed\n",
    "    from time import perf_counter # returns current time\n",
    "    from functools import wraps # preserves metadata\n",
    "    def inner_decorator(fn):\n",
    "        @wraps(fn)\n",
    "        def timer(*args,**kwargs): # take in any arguments\n",
    "            start = perf_counter() # start timer\n",
    "            func_result = fn(*args,*kwargs) # feed through and unwrap arguments\n",
    "            end = perf_counter() # end timer\n",
    "            for i in range(cycles):\n",
    "                time_elapsed = end-start #get time elapsed\n",
    "            args_list = [str(a) for a in args]\n",
    "            kwargs_list = [f'{k}:{v}' for k,v in kwargs.items()] #extract key value from dict using tuple unpack and list comp.\n",
    "            average_time = time_elapsed/cycles\n",
    "            print(f'Function took {time_elapsed} seconds to run.\\n'\n",
    "                  f'Input args: {args_list} and kwargs: {kwargs_list}\\n'\n",
    "                  f'{cycles} cycles were run.\\n'\n",
    "                  f'The average time per cycle was {average_time}.') # Print out how long it took\n",
    "            return func_result\n",
    "        return timer\n",
    "    return inner_decorator"
   ],
   "metadata": {
    "collapsed": false,
    "pycharm": {
     "name": "#%%\n"
    }
   }
  },
  {
   "cell_type": "markdown",
   "source": [
    "## Decorator Usage\n"
   ],
   "metadata": {
    "collapsed": false,
    "pycharm": {
     "name": "#%% md\n"
    }
   }
  },
  {
   "cell_type": "code",
   "execution_count": 62,
   "outputs": [
    {
     "name": "stdout",
     "output_type": "stream",
     "text": [
      "Function took 3.3999995139311068e-06 seconds to run.\n",
      "Input args: ['100', '1234'] and kwargs: []\n",
      "1000 cycles were run.\n",
      "The average time per cycle was 3.3999995139311067e-09.\n"
     ]
    },
    {
     "data": {
      "text/plain": "1334"
     },
     "execution_count": 62,
     "metadata": {},
     "output_type": "execute_result"
    }
   ],
   "source": [
    "@time_it(1000)\n",
    "def addsimple(a,b):\n",
    "    return a+b\n",
    "\n",
    "addsimple(100,1234)"
   ],
   "metadata": {
    "collapsed": false,
    "pycharm": {
     "name": "#%%\n"
    }
   }
  },
  {
   "cell_type": "code",
   "execution_count": 65,
   "outputs": [
    {
     "name": "stdout",
     "output_type": "stream",
     "text": [
      "Help on function time_it in module __main__:\n",
      "\n",
      "time_it(cycles=100)\n",
      "    A simple parameterized decorator - timing over a number of cycles.\n",
      "    Default is 100, can set as many as you want.\n",
      "\n"
     ]
    }
   ],
   "source": [
    "help(time_it)"
   ],
   "metadata": {
    "collapsed": false,
    "pycharm": {
     "name": "#%%\n"
    }
   }
  },
  {
   "cell_type": "code",
   "execution_count": null,
   "outputs": [],
   "source": [
    "\n"
   ],
   "metadata": {
    "collapsed": false,
    "pycharm": {
     "name": "#%%\n"
    }
   }
  }
 ],
 "metadata": {
  "kernelspec": {
   "name": "pycharm-e3e1206d",
   "language": "python",
   "display_name": "PyCharm (python-decorators)"
  },
  "language_info": {
   "codemirror_mode": {
    "name": "ipython",
    "version": 2
   },
   "file_extension": ".py",
   "mimetype": "text/x-python",
   "name": "python",
   "nbconvert_exporter": "python",
   "pygments_lexer": "ipython2",
   "version": "2.7.6"
  }
 },
 "nbformat": 4,
 "nbformat_minor": 0
}