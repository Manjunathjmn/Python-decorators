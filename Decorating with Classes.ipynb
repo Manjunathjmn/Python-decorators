{
 "cells": [
  {
   "cell_type": "markdown",
   "source": [
    "# Decorating with a Class\n",
    "This is a simpler way to get a parameterized decorator.\n",
    "All we require is a decorator factory that accepts and stores parameters in a non-local way.\n",
    "\n",
    "This can be done with a class, where class attributes will store the parameters.\n",
    "The __call__ method is used to define an response to when a class is called... i.e. a decorator is used."
   ],
   "metadata": {
    "collapsed": false,
    "pycharm": {
     "name": "#%% md\n"
    }
   }
  },
  {
   "cell_type": "code",
   "execution_count": 6,
   "outputs": [],
   "source": [
    "class myDecorator: # This will be used as a decorator factory.\n",
    "    def __init__(self,a,b):\n",
    "        self.a = a\n",
    "        self.b = b\n",
    "\n",
    "    def __call__(self, fn): # Setup a decorator\n",
    "        def inner(*args, **kwargs): # Inner function takes the args and kwargs\n",
    "            # Do something with a and b\n",
    "            print(f'Parameters were {self.a} and {self.b}.')\n",
    "            func_result = fn(*args,**kwargs)\n",
    "            return func_result\n",
    "        return inner"
   ],
   "metadata": {
    "collapsed": false,
    "pycharm": {
     "name": "#%%\n"
    }
   }
  },
  {
   "cell_type": "code",
   "execution_count": 7,
   "outputs": [
    {
     "name": "stdout",
     "output_type": "stream",
     "text": [
      "Parameters were 10 and 20.\n"
     ]
    },
    {
     "data": {
      "text/plain": "3"
     },
     "execution_count": 7,
     "metadata": {},
     "output_type": "execute_result"
    }
   ],
   "source": [
    "@myDecorator(10,20)\n",
    "def simple_add(a,b):\n",
    "    return a+b\n",
    "\n",
    "simple_add(1,2)"
   ],
   "metadata": {
    "collapsed": false,
    "pycharm": {
     "name": "#%%\n"
    }
   }
  },
  {
   "cell_type": "markdown",
   "source": [
    "``@myDecorator(10,20)``<br>\n",
    "``def my_func():``<br>\n",
    "``#some code``\n",
    "\n",
    "is equivalent to\n",
    "\n",
    "``my_func=myDecorator(10,20)(my_func)``\n",
    "\n"
   ],
   "metadata": {
    "collapsed": false,
    "pycharm": {
     "name": "#%% md\n"
    }
   }
  }
 ],
 "metadata": {
  "kernelspec": {
   "name": "pycharm-e3e1206d",
   "language": "python",
   "display_name": "PyCharm (python-decorators)"
  },
  "language_info": {
   "codemirror_mode": {
    "name": "ipython",
    "version": 2
   },
   "file_extension": ".py",
   "mimetype": "text/x-python",
   "name": "python",
   "nbconvert_exporter": "python",
   "pygments_lexer": "ipython2",
   "version": "2.7.6"
  }
 },
 "nbformat": 4,
 "nbformat_minor": 0
}