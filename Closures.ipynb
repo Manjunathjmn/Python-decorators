{
 "cells": [
  {
   "cell_type": "markdown",
   "metadata": {
    "collapsed": true,
    "pycharm": {
     "name": "#%% md\n"
    }
   },
   "source": [
    "# Closures\n",
    "\n",
    "Closures can be thought of as a function plus an extended scope that contains the free variables\n",
    "This free variable is shared between scopes via an intermediary cell with points to an object that contains the value (an indirect reference)"
   ]
  },
  {
   "cell_type": "code",
   "execution_count": null,
   "outputs": [],
   "source": [
    "def outer():\n",
    "    a = 100  # local (outer) scope\n",
    "    x = 'python'\n",
    "\n",
    "    def inner():\n",
    "        a = 10  # local (inner) scope\n",
    "        print(x)  # reference to variable x bound to outer scope\n",
    "    return inner  # create closure\n",
    "\n",
    "\n",
    "fn = outer()  # inner is returned, call with fn()"
   ],
   "metadata": {
    "collapsed": false,
    "pycharm": {
     "name": "#%%\n"
    }
   }
  },
  {
   "cell_type": "markdown",
   "source": [
    " Introspection can be done through dunder methods\n",
    "\n",
    "``fn.__code__.co_freevars``   returns tuple of all free variables <br>\n",
    "``fn.__closure__``   returns tuple of cell to object addresses"
   ],
   "metadata": {
    "collapsed": false,
    "pycharm": {
     "name": "#%% md\n"
    }
   }
  },
  {
   "cell_type": "markdown",
   "source": [
    "# Closure Applications\n",
    "\n",
    "Closures enables the free-variable to be stored for each instance of the function\n",
    "This occurs through the cell-indirect reference system\n",
    "A new cell-indirect reference is created in memory for each instance of the function\n",
    "\n",
    "A simple counter can be created with a closure, with the non-local variable stored and modified within the inner function"
   ],
   "metadata": {
    "collapsed": false,
    "pycharm": {
     "name": "#%% md\n"
    }
   }
  },
  {
   "cell_type": "code",
   "execution_count": 4,
   "outputs": [],
   "source": [
    "def counter(*args):\n",
    "    '''\n",
    "    :param args:\n",
    "    Initialized with no argument\n",
    "    Pass integers to the initialized function to increment the stored count by n\n",
    "    :return:\n",
    "    Returns stored count\n",
    "    '''\n",
    "    count = 0  # local (outer) scope\n",
    "\n",
    "    def inner(num: int):\n",
    "        nonlocal count  # set count to non-local variable so we can modify it in this scope\n",
    "        print(f'Previous count was {count}.\\n'\n",
    "              f'Incrementing count by {num}.')\n",
    "        count += num\n",
    "        print(f'New count is {count}')\n",
    "    return inner  # create closure\n",
    "\n",
    "counter1 = counter()\n",
    "\n",
    "counter2 = counter()\n",
    "\n"
   ],
   "metadata": {
    "collapsed": false,
    "pycharm": {
     "name": "#%%\n"
    }
   }
  },
  {
   "cell_type": "markdown",
   "source": [
    "``counter1`` and ``counter2`` are now individual instances of the counter function that have separately stored objects which are indirectly referenced."
   ],
   "metadata": {
    "collapsed": false,
    "pycharm": {
     "name": "#%% md\n"
    }
   }
  },
  {
   "cell_type": "code",
   "execution_count": 16,
   "outputs": [
    {
     "name": "stdout",
     "output_type": "stream",
     "text": [
      "Previous count was 50.\n",
      "Incrementing count by 10.\n",
      "New count is 60\n",
      "Previous count was 80.\n",
      "Incrementing count by 20.\n",
      "New count is 100\n"
     ]
    }
   ],
   "source": [
    "counter1(10)\n",
    "counter2(20)\n",
    "\n",
    "\n"
   ],
   "metadata": {
    "collapsed": false,
    "pycharm": {
     "name": "#%%\n"
    }
   }
  },
  {
   "cell_type": "markdown",
   "source": [
    "# Nested Closures\n",
    "\n",
    "Nested closures enable another layer of variables to be stored, set during initialization\n",
    "A typical use case might be to create slightly different variations of the same function based on the value passed during initialization - eg, incrementing by a different amount"
   ],
   "metadata": {
    "collapsed": false,
    "pycharm": {
     "name": "#%% md\n"
    }
   }
  },
  {
   "cell_type": "code",
   "execution_count": null,
   "outputs": [],
   "source": [
    "def incrementer(increment_value): # Create first level of closure with free variable increment_value\n",
    "\n",
    "    def inner(start): # Create second level of closure with free variable start\n",
    "        current = start\n",
    "\n",
    "        def inc():\n",
    "            nonlocal current # Set current to a non-local variable so we can directly interact at this level\n",
    "            current += increment_value # Utilize the increment_value free variable that was created on initialization\n",
    "            return current # Return functionality\n",
    "        return inc # Finish inner closure\n",
    "    return inner # Finish outer closure\n"
   ],
   "metadata": {
    "collapsed": false,
    "pycharm": {
     "name": "#%%\n"
    }
   }
  },
  {
   "cell_type": "markdown",
   "source": [
    "Now, incrementer functions can be initialized by nesting functions"
   ],
   "metadata": {
    "collapsed": false,
    "pycharm": {
     "name": "#%% md\n"
    }
   }
  },
  {
   "cell_type": "code",
   "execution_count": null,
   "outputs": [],
   "source": [
    "increment2 = incrementer(2)\n",
    "increment2_start100 = increment2(100)\n",
    "\n",
    "increment10 = incrementer(10)\n",
    "increment10_start50 = increment10(50)"
   ],
   "metadata": {
    "collapsed": false,
    "pycharm": {
     "name": "#%%\n"
    }
   }
  },
  {
   "cell_type": "markdown",
   "source": [
    "Initialization MUST occur to create the indirect reference that is stored in memory\n",
    "\n",
    "\n",
    "\n"
   ],
   "metadata": {
    "collapsed": false,
    "pycharm": {
     "name": "#%% md\n"
    }
   }
  }
 ],
 "metadata": {
  "kernelspec": {
   "name": "pycharm-e3e1206d",
   "language": "python",
   "display_name": "PyCharm (python-decorators)"
  },
  "language_info": {
   "codemirror_mode": {
    "name": "ipython",
    "version": 2
   },
   "file_extension": ".py",
   "mimetype": "text/x-python",
   "name": "python",
   "nbconvert_exporter": "python",
   "pygments_lexer": "ipython2",
   "version": "2.7.6"
  }
 },
 "nbformat": 4,
 "nbformat_minor": 0
}